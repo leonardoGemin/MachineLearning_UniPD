{
 "cells": [
  {
   "cell_type": "markdown",
   "metadata": {},
   "source": [
    "# Neural Networks for Classification, and Clustering\n",
    "\n",
    "In this notebook we are going to explore the use of Neural Networks for image classification. We are going to use a dataset of small images of clothes and accessories, the Fashion MNIST. You can find more information regarding the dataset here: https://pravarmahajan.github.io/fashion/\n",
    "\n",
    "Each instance in the dataset consist of an image, in a format similar to the digit images you have seen in the previous homework, and a label. The labels correspond to the type of clothing, as follows:\n",
    "\n",
    "| Label | Description |\n",
    "| --- | --- |\n",
    "| 0 | T-shirt/top |\n",
    "| 1 | Trouser |\n",
    "| 2 | Pullover |\n",
    "| 3 | Dress |\n",
    "| 4 | Coat |\n",
    "| 5 | Sandal |\n",
    "| 6 | Shirt |\n",
    "| 7 | Sneaker |\n",
    "| 8 | Bag |\n",
    "| 9 | Ankle boot |"
   ]
  },
  {
   "cell_type": "markdown",
   "metadata": {},
   "source": [
    "Let's first load the required packages."
   ]
  },
  {
   "cell_type": "code",
   "execution_count": 1,
   "metadata": {},
   "outputs": [],
   "source": [
    "#load the required packages\n",
    "\n",
    "%matplotlib inline  \n",
    "\n",
    "import numpy as np\n",
    "import scipy as sp\n",
    "import matplotlib.pyplot as plt\n",
    "\n",
    "import sklearn\n",
    "from sklearn.neural_network import MLPClassifier\n",
    "from sklearn.model_selection import GridSearchCV"
   ]
  },
  {
   "cell_type": "markdown",
   "metadata": {},
   "source": [
    "The following is a function to load the data, that we are going to use later in the notebook."
   ]
  },
  {
   "cell_type": "code",
   "execution_count": 2,
   "metadata": {},
   "outputs": [],
   "source": [
    "# helper function to load Fashion MNIST dataset from disk\n",
    "def load_fashion_mnist(path, kind='train'):\n",
    "    import os\n",
    "    import gzip\n",
    "    import numpy as np\n",
    "    labels_path = os.path.join(path, '%s-labels-idx1-ubyte.gz' % kind)\n",
    "    images_path = os.path.join(path, '%s-images-idx3-ubyte.gz' % kind)\n",
    "    with gzip.open(labels_path, 'rb') as lbpath:\n",
    "        labels = np.frombuffer(lbpath.read(), dtype=np.uint8,offset=8)\n",
    "    with gzip.open(images_path, 'rb') as imgpath:\n",
    "        images = np.frombuffer(imgpath.read(), dtype=np.uint8,offset=16).reshape(len(labels), 784)\n",
    "    return images, labels"
   ]
  },
  {
   "cell_type": "markdown",
   "metadata": {},
   "source": [
    "## TO DO 0\n",
    "Place your ID (\"numero di matricola\") that will be used as seed for random generator. Change the ID number in case you observe unexpected behaviours and want to test if this is due to randomization (e.g., train/test split). If you change the ID number explain why you have change it."
   ]
  },
  {
   "cell_type": "code",
   "execution_count": 3,
   "metadata": {},
   "outputs": [],
   "source": [
    "ID = 2023860\n",
    "np.random.seed(ID)"
   ]
  },
  {
   "cell_type": "markdown",
   "metadata": {},
   "source": [
    "Now we load the dataset using the function above."
   ]
  },
  {
   "cell_type": "code",
   "execution_count": 4,
   "metadata": {},
   "outputs": [],
   "source": [
    "#load the fashion MNIST dataset and normalize the features so that each value is in [0,1]\n",
    "X, y = load_fashion_mnist(\"data\")\n",
    "# rescale the data\n",
    "X = X / 255.0"
   ]
  },
  {
   "cell_type": "markdown",
   "metadata": {},
   "source": [
    "Now we split the data into training and test. Make sure that each label is present at least 10 times\n",
    "in the training set."
   ]
  },
  {
   "cell_type": "code",
   "execution_count": 5,
   "metadata": {},
   "outputs": [
    {
     "name": "stdout",
     "output_type": "stream",
     "text": [
      "Labels in training dataset:  [0 1 2 3 4 5 6 7 8 9]\n",
      "Frequencies in training dataset:  [47 45 54 44 45 49 47 55 61 53]\n"
     ]
    }
   ],
   "source": [
    "#random permute the data and split into training and test taking the first 500\n",
    "#data samples as training and the rest as test\n",
    "permutation = np.random.permutation(X.shape[0])\n",
    "\n",
    "X = X[permutation]\n",
    "y = y[permutation]\n",
    "\n",
    "m_training = 500\n",
    "\n",
    "X_train, X_test = X[:m_training], X[m_training:]\n",
    "y_train, y_test = y[:m_training], y[m_training:]\n",
    "\n",
    "labels, freqs = np.unique(y_train, return_counts=True)\n",
    "print(\"Labels in training dataset: \", labels)\n",
    "print(\"Frequencies in training dataset: \", freqs)\n"
   ]
  },
  {
   "cell_type": "markdown",
   "metadata": {},
   "source": [
    "The following function plots an image and the corresponding label, to be used to inspect the data when needed."
   ]
  },
  {
   "cell_type": "code",
   "execution_count": 6,
   "metadata": {},
   "outputs": [],
   "source": [
    "#function for plotting a image and printing the corresponding label\n",
    "def plot_input(X_matrix, labels, index):\n",
    "    print(\"INPUT:\")\n",
    "    plt.imshow(\n",
    "        X_matrix[index].reshape(28,28),\n",
    "        cmap          = plt.cm.gray_r,\n",
    "        interpolation = \"nearest\"\n",
    "    )\n",
    "    plt.show()\n",
    "    print(\"LABEL: %i\"%labels[index])\n",
    "    return"
   ]
  },
  {
   "cell_type": "markdown",
   "metadata": {},
   "source": [
    "Now let's test the function above and check few images."
   ]
  },
  {
   "cell_type": "code",
   "execution_count": 7,
   "metadata": {},
   "outputs": [
    {
     "name": "stdout",
     "output_type": "stream",
     "text": [
      "INPUT:\n"
     ]
    },
    {
     "data": {
      "image/png": "[encoded data removed]",
      "text/plain": [
       "<Figure size 432x288 with 1 Axes>"
      ]
     },
     "metadata": {
      "needs_background": "light"
     },
     "output_type": "display_data"
    },
    {
     "name": "stdout",
     "output_type": "stream",
     "text": [
      "LABEL: 2\n",
      "INPUT:\n"
     ]
    },
    {
     "data": {
      "image/png": "[encoded data removed]",
      "text/plain": [
       "<Figure size 432x288 with 1 Axes>"
      ]
     },
     "metadata": {
      "needs_background": "light"
     },
     "output_type": "display_data"
    },
    {
     "name": "stdout",
     "output_type": "stream",
     "text": [
      "LABEL: 2\n",
      "INPUT:\n"
     ]
    },
    {
     "data": {
      "image/png": "[encoded data removed]",
      "text/plain": [
       "<Figure size 432x288 with 1 Axes>"
      ]
     },
     "metadata": {
      "needs_background": "light"
     },
     "output_type": "display_data"
    },
    {
     "name": "stdout",
     "output_type": "stream",
     "text": [
      "LABEL: 7\n"
     ]
    }
   ],
   "source": [
    "#let's try the plotting function\n",
    "plot_input(X_train,y_train,10)\n",
    "plot_input(X_test,y_test,50)\n",
    "plot_input(X_test,y_test,300)"
   ]
  },
  {
   "cell_type": "markdown",
   "metadata": {},
   "source": [
    "## TO DO 1\n",
    "\n",
    "Now use a (feed-forward) Neural Network for prediction. Use the multi-layer perceptron (MLP) classifier MLPClassifier(...) in scikit-learn, with the following parameters: max_iter=300, alpha=1e-4, solver='sgd', tol=1e-4, learning_rate_init=.1, random_state=ID (this last parameter ensures the run is the same even if you run it more than once). The alpha parameter is the regularization parameter for L2 regularization that is used by the MLP in sklearn.\n",
    "\n",
    "Then, using the default activation function, pick four or five architectures to consider, with different numbers of hidden layers and different sizes. It is not necessary to create huge neural networks, you can limit to 3 layers and, for each layer, its maximum size can be of 100. You can evaluate the architectures you chose using the GridSearchCV with a 5-fold cross-validation, and use the results to pick the best architecture. The code below provides some architectures you can use, but you can choose other ones if you prefer.\n"
   ]
  },
  {
   "cell_type": "code",
   "execution_count": 8,
   "metadata": {},
   "outputs": [
    {
     "name": "stdout",
     "output_type": "stream",
     "text": [
      "RESULTS FOR NN\n",
      "\n",
      "Best parameters set found:\n",
      "{'hidden_layer_sizes': (100,)}\n",
      "Score with best parameters:\n",
      "0.7859999999999999\n",
      "\n",
      "All scores on the grid:\n",
      "{'hidden_layer_sizes': (10,)}  -->  0.658\n",
      "{'hidden_layer_sizes': (50,)}  -->  0.774\n",
      "{'hidden_layer_sizes': (10, 10)}  -->  0.43600000000000005\n",
      "{'hidden_layer_sizes': (50, 50)}  -->  0.7739999999999999\n",
      "{'hidden_layer_sizes': (50, 50, 50)}  -->  0.702\n",
      "{'hidden_layer_sizes': (75,)}  -->  0.778\n",
      "{'hidden_layer_sizes': (100,)}  -->  0.7859999999999999\n"
     ]
    }
   ],
   "source": [
    "#MLPclassifier requires in input the parameter hidden_layer_sizes, that is a tuple specifying the number of \n",
    "#neurons in the hidden layers; for example: (10,) means that there is only 1 hidden layer with 10 neurons; \n",
    "#(10,50) means that there are 2 hidden layers, the first with 10 neurons, the second with 50 neurons\n",
    "\n",
    "#these are examples of possible architectures you can test, but feel free to use different architectures! \n",
    "hl_parameters = {'hidden_layer_sizes': [(10,), (50,), (10,10,), (50,50,), (50, 50, 50,), (75,), (100,)]}\n",
    "\n",
    "mlp_test = MLPClassifier(max_iter=300, alpha=1e-4, solver='sgd', tol=1e-4, learning_rate_init=.1, random_state=ID)\n",
    "mlp_cv = GridSearchCV(mlp_test, hl_parameters)\n",
    "\n",
    "mlp_cv.fit(X_train, y_train)\n",
    "    \n",
    "print ('RESULTS FOR NN\\n')\n",
    "\n",
    "print(\"Best parameters set found:\")\n",
    "print(mlp_cv.best_params_)\n",
    "\n",
    "print(\"Score with best parameters:\")\n",
    "print(mlp_cv.best_score_)\n",
    "\n",
    "print(\"\\nAll scores on the grid:\")\n",
    "for i in range(len(mlp_cv.cv_results_['params'])):\n",
    "    print(mlp_cv.cv_results_['params'][i], \" --> \", mlp_cv.cv_results_['mean_test_score'][i])\n",
    "\n"
   ]
  },
  {
   "cell_type": "markdown",
   "metadata": {},
   "source": [
    "## TO DO 2\n",
    "\n",
    "What do you observe for different architectures and their scores? How do the number of layers and their sizes affect the performances?"
   ]
  },
  {
   "cell_type": "markdown",
   "metadata": {},
   "source": [
    "The architecture can be modified in two ways:\n",
    " - increasing the hidden layers;\n",
    " - increasing the number of nodes per layer.\n",
    "\n",
    "Contrary to what one might think, the increase in hidden layers does not lead to improvements in the system, but a slight deterioration in performance. See, for example, how the score between the configuration ```(10,)``` and ```(10, 10)``` drops by about 30%.\n",
    "\n",
    "Instead, increasing the size of the first (and only) layer, the score increases. In our code, if we maximize to 100 the number of nodes, the maximum score of the model is obtained, with an improvement of about 20% compared to the minimum score. The cost of increasing the score is, obviously, the increase in the computational time of the algorith."
   ]
  },
  {
   "cell_type": "markdown",
   "metadata": {},
   "source": [
    "## TO DO 3\n",
    "\n",
    "Now get training and test error (according to the initial split) for a NN with best parameters chosen from the cross-validation above (and learning the NN weights from the entire training set). Use verbose=True\n",
    "in input so to see how loss changes in iterations. (Note that the loss used by the MLPclassifier may be different from the 0-1 loss, also called *accuracy*.)"
   ]
  },
  {
   "cell_type": "code",
   "execution_count": 9,
   "metadata": {},
   "outputs": [
    {
     "name": "stdout",
     "output_type": "stream",
     "text": [
      "Iteration 1, loss = 2.23009156\n",
      "Iteration 2, loss = 1.55027752\n",
      "Iteration 3, loss = 1.02500544\n",
      "Iteration 4, loss = 0.87274852\n",
      "Iteration 5, loss = 0.83044400\n",
      "Iteration 6, loss = 0.72687451\n",
      "Iteration 7, loss = 0.62343975\n",
      "Iteration 8, loss = 0.58166844\n",
      "Iteration 9, loss = 0.48469853\n",
      "Iteration 10, loss = 0.45791348\n",
      "Iteration 11, loss = 0.44855173\n",
      "Iteration 12, loss = 0.37896914\n",
      "Iteration 13, loss = 0.35681059\n",
      "Iteration 14, loss = 0.34818004\n",
      "Iteration 15, loss = 0.30528476\n",
      "Iteration 16, loss = 0.28645921\n",
      "Iteration 17, loss = 0.29400200\n",
      "Iteration 18, loss = 0.28400775\n",
      "Iteration 19, loss = 0.23218504\n",
      "Iteration 20, loss = 0.19799409\n",
      "Iteration 21, loss = 0.21170688\n",
      "Iteration 22, loss = 0.19770468\n",
      "Iteration 23, loss = 0.21994713\n",
      "Iteration 24, loss = 0.16060225\n",
      "Iteration 25, loss = 0.13786495\n",
      "Iteration 26, loss = 0.13277095\n",
      "Iteration 27, loss = 0.14500121\n",
      "Iteration 28, loss = 0.17043334\n",
      "Iteration 29, loss = 0.19827710\n",
      "Iteration 30, loss = 0.14260495\n",
      "Iteration 31, loss = 0.09522947\n",
      "Iteration 32, loss = 0.08866555\n",
      "Iteration 33, loss = 0.20009285\n",
      "Iteration 34, loss = 0.08225711\n",
      "Iteration 35, loss = 0.07683801\n",
      "Iteration 36, loss = 0.07725935\n",
      "Iteration 37, loss = 0.06853820\n",
      "Iteration 38, loss = 0.06050428\n",
      "Iteration 39, loss = 0.05383733\n",
      "Iteration 40, loss = 0.04973142\n",
      "Iteration 41, loss = 0.04755837\n",
      "Iteration 42, loss = 0.04762877\n",
      "Iteration 43, loss = 0.03820888\n",
      "Iteration 44, loss = 0.03771678\n",
      "Iteration 45, loss = 0.03201528\n",
      "Iteration 46, loss = 0.03301996\n",
      "Iteration 47, loss = 0.03323797\n",
      "Iteration 48, loss = 0.02742886\n",
      "Iteration 49, loss = 0.02486695\n",
      "Iteration 50, loss = 0.02485757\n",
      "Iteration 51, loss = 0.02389530\n",
      "Iteration 52, loss = 0.02132790\n",
      "Iteration 53, loss = 0.02030109\n",
      "Iteration 54, loss = 0.02004959\n",
      "Iteration 55, loss = 0.01982068\n",
      "Iteration 56, loss = 0.01790846\n",
      "Iteration 57, loss = 0.01739900\n",
      "Iteration 58, loss = 0.01629986\n",
      "Iteration 59, loss = 0.01578495\n",
      "Iteration 60, loss = 0.01556131\n",
      "Iteration 61, loss = 0.01470093\n",
      "Iteration 62, loss = 0.01428958\n",
      "Iteration 63, loss = 0.01388174\n",
      "Iteration 64, loss = 0.01350126\n",
      "Iteration 65, loss = 0.01340064\n",
      "Iteration 66, loss = 0.01266534\n",
      "Iteration 67, loss = 0.01222251\n",
      "Iteration 68, loss = 0.01204710\n",
      "Iteration 69, loss = 0.01166300\n",
      "Iteration 70, loss = 0.01146243\n",
      "Iteration 71, loss = 0.01128242\n",
      "Iteration 72, loss = 0.01074346\n",
      "Iteration 73, loss = 0.01050191\n",
      "Iteration 74, loss = 0.01017615\n",
      "Iteration 75, loss = 0.00994616\n",
      "Iteration 76, loss = 0.00978801\n",
      "Iteration 77, loss = 0.00959248\n",
      "Iteration 78, loss = 0.00934386\n",
      "Iteration 79, loss = 0.00917644\n",
      "Iteration 80, loss = 0.00892810\n",
      "Iteration 81, loss = 0.00878000\n",
      "Iteration 82, loss = 0.00861895\n",
      "Iteration 83, loss = 0.00837845\n",
      "Iteration 84, loss = 0.00822931\n",
      "Iteration 85, loss = 0.00795709\n",
      "Iteration 86, loss = 0.00785602\n",
      "Iteration 87, loss = 0.00767834\n",
      "Iteration 88, loss = 0.00750238\n",
      "Iteration 89, loss = 0.00744069\n",
      "Iteration 90, loss = 0.00739338\n",
      "Iteration 91, loss = 0.00743704\n",
      "Iteration 92, loss = 0.00700461\n",
      "Iteration 93, loss = 0.00700561\n",
      "Iteration 94, loss = 0.00680089\n",
      "Iteration 95, loss = 0.00666422\n",
      "Iteration 96, loss = 0.00659692\n",
      "Iteration 97, loss = 0.00642704\n",
      "Iteration 98, loss = 0.00634209\n",
      "Iteration 99, loss = 0.00622786\n",
      "Iteration 100, loss = 0.00613656\n",
      "Iteration 101, loss = 0.00608060\n",
      "Iteration 102, loss = 0.00604326\n",
      "Iteration 103, loss = 0.00584585\n",
      "Iteration 104, loss = 0.00576286\n",
      "Iteration 105, loss = 0.00569276\n",
      "Iteration 106, loss = 0.00561205\n",
      "Iteration 107, loss = 0.00556989\n",
      "Iteration 108, loss = 0.00547549\n",
      "Iteration 109, loss = 0.00544432\n",
      "Iteration 110, loss = 0.00528206\n",
      "Iteration 111, loss = 0.00525668\n",
      "Iteration 112, loss = 0.00516163\n",
      "Iteration 113, loss = 0.00510347\n",
      "Iteration 114, loss = 0.00506353\n",
      "Iteration 115, loss = 0.00494482\n",
      "Iteration 116, loss = 0.00490065\n",
      "Iteration 117, loss = 0.00487360\n",
      "Iteration 118, loss = 0.00477497\n",
      "Iteration 119, loss = 0.00474392\n",
      "Iteration 120, loss = 0.00466773\n",
      "Iteration 121, loss = 0.00462669\n",
      "Iteration 122, loss = 0.00457936\n",
      "Iteration 123, loss = 0.00448819\n",
      "Iteration 124, loss = 0.00444000\n",
      "Iteration 125, loss = 0.00439701\n",
      "Iteration 126, loss = 0.00436721\n",
      "Training loss did not improve more than tol=0.000100 for 10 consecutive epochs. Stopping.\n",
      "\n",
      "RESULTS FOR BEST NN\n",
      "\n",
      "Best NN training error: 0.000000\n",
      "Best NN test error: 0.204689\n"
     ]
    }
   ],
   "source": [
    "#get training and test error for the best NN model from CV\n",
    "\n",
    "best_mlp_small = MLPClassifier(max_iter=300, alpha=1e-4, solver='sgd', tol=1e-4, learning_rate_init=.1, random_state=ID, verbose=True, hidden_layer_sizes=hl_parameters['hidden_layer_sizes'][mlp_cv.best_index_])\n",
    "best_mlp_small.fit(X_train, y_train)\n",
    "\n",
    "training_error = 1. - best_mlp_small.score(X_train, y_train)\n",
    "test_error = 1. - best_mlp_small.score(X_test, y_test)\n",
    "\n",
    "print ('\\nRESULTS FOR BEST NN\\n')\n",
    "\n",
    "print (\"Best NN training error: %f\" % training_error)\n",
    "print (\"Best NN test error: %f\" % test_error)"
   ]
  },
  {
   "cell_type": "markdown",
   "metadata": {},
   "source": [
    "## More data \n",
    "Now let's do the same but using 10000 (or less if it takes too long on your machine) data points for training. Use the same NN architectures as before, but you can try more if you want!"
   ]
  },
  {
   "cell_type": "code",
   "execution_count": 10,
   "metadata": {},
   "outputs": [
    {
     "name": "stdout",
     "output_type": "stream",
     "text": [
      "Labels and frequencies in training dataset: \n"
     ]
    },
    {
     "data": {
      "text/plain": [
       "(array([0, 1, 2, 3, 4, 5, 6, 7, 8, 9], dtype=uint8),\n",
       " array([ 992, 1032, 1039,  953, 1021,  991, 1004, 1014,  945, 1009]))"
      ]
     },
     "execution_count": 10,
     "metadata": {},
     "output_type": "execute_result"
    }
   ],
   "source": [
    "X = X[permutation]\n",
    "y = y[permutation]\n",
    "\n",
    "m_training = 10000\n",
    "\n",
    "X_train, X_test = X[:m_training], X[m_training:]\n",
    "y_train, y_test = y[:m_training], y[m_training:]\n",
    "\n",
    "print(\"Labels and frequencies in training dataset: \")\n",
    "np.unique(y_train, return_counts=True)"
   ]
  },
  {
   "cell_type": "markdown",
   "metadata": {},
   "source": [
    "## TO DO 4\n",
    "\n",
    "Now train the NNs with the added data points. Feel free to try more different architectures than before if you want, or less if it takes too much time. You can use 'verbose=True' so have an idea of how long it takes to run 1 iteration (eventually reduce also the number of iterations to 50)."
   ]
  },
  {
   "cell_type": "code",
   "execution_count": 11,
   "metadata": {},
   "outputs": [
    {
     "name": "stdout",
     "output_type": "stream",
     "text": [
      "RESULTS FOR NN\n",
      "\n",
      "Best parameters set found:\n",
      "{'hidden_layer_sizes': (100,)}\n",
      "Score with best parameters:\n",
      "0.8571\n",
      "\n",
      "All scores on the grid:\n",
      "{'hidden_layer_sizes': (10,)}  -->  0.7996000000000001\n",
      "{'hidden_layer_sizes': (50,)}  -->  0.8464\n",
      "{'hidden_layer_sizes': (10, 10)}  -->  0.5972999999999999\n",
      "{'hidden_layer_sizes': (50, 50)}  -->  0.8465\n",
      "{'hidden_layer_sizes': (75,)}  -->  0.8545\n",
      "{'hidden_layer_sizes': (100,)}  -->  0.8571\n"
     ]
    }
   ],
   "source": [
    "#for NN we try the same architectures as before\n",
    "hl_parameters = {'hidden_layer_sizes': [(10,), (50,), (10,10,), (50,50,), (75,), (100,)]}\n",
    "\n",
    "mlp_large_test = MLPClassifier(max_iter=300, alpha=1e-4, solver='sgd', tol=1e-4, learning_rate_init=.1, random_state=ID)\n",
    "mlp_large_cv = GridSearchCV(mlp_large_test, hl_parameters)\n",
    "\n",
    "mlp_large_cv.fit(X_train, y_train)\n",
    "    \n",
    "print ('RESULTS FOR NN\\n')\n",
    "\n",
    "print(\"Best parameters set found:\")\n",
    "print(mlp_large_cv.best_params_)\n",
    "\n",
    "print(\"Score with best parameters:\")\n",
    "print(mlp_large_cv.best_score_)\n",
    "\n",
    "print(\"\\nAll scores on the grid:\")\n",
    "for i in range(len(mlp_large_cv.cv_results_['params'])):\n",
    "    print(mlp_large_cv.cv_results_['params'][i], \" --> \", mlp_large_cv.cv_results_['mean_test_score'][i])\n"
   ]
  },
  {
   "cell_type": "markdown",
   "metadata": {},
   "source": [
    "## TO DO 5\n",
    "Describe your architecture choices and the results you observe with respect to the architectures you used."
   ]
  },
  {
   "cell_type": "markdown",
   "metadata": {},
   "source": [
    "As described previously, the best score is given by maximizing the number of nodes for the first and unique hidden layer. In our case, the architecture that we have chosen has 100 nodes for one single hidden layer."
   ]
  },
  {
   "cell_type": "markdown",
   "metadata": {},
   "source": [
    "## TO DO 6\n",
    "\n",
    "Get the train and test error for the best NN you obtained with 10000 points. This time you can run for 100 iterations if you cannot run for 300 iterations. \n"
   ]
  },
  {
   "cell_type": "code",
   "execution_count": 12,
   "metadata": {},
   "outputs": [
    {
     "name": "stdout",
     "output_type": "stream",
     "text": [
      "Iteration 1, loss = 0.87649048\n",
      "Iteration 2, loss = 0.50028439\n",
      "Iteration 3, loss = 0.43487538\n",
      "Iteration 4, loss = 0.39639171\n",
      "Iteration 5, loss = 0.38148793\n",
      "Iteration 6, loss = 0.34320424\n",
      "Iteration 7, loss = 0.32934509\n",
      "Iteration 8, loss = 0.31645594\n",
      "Iteration 9, loss = 0.30239955\n",
      "Iteration 10, loss = 0.28617447\n",
      "Iteration 11, loss = 0.27208180\n",
      "Iteration 12, loss = 0.25911601\n",
      "Iteration 13, loss = 0.26331852\n",
      "Iteration 14, loss = 0.25070650\n",
      "Iteration 15, loss = 0.24386410\n",
      "Iteration 16, loss = 0.24137191\n",
      "Iteration 17, loss = 0.22043850\n",
      "Iteration 18, loss = 0.20674525\n",
      "Iteration 19, loss = 0.20750015\n",
      "Iteration 20, loss = 0.20563559\n",
      "Iteration 21, loss = 0.19484035\n",
      "Iteration 22, loss = 0.18921588\n",
      "Iteration 23, loss = 0.18413203\n",
      "Iteration 24, loss = 0.17237724\n",
      "Iteration 25, loss = 0.17367366\n",
      "Iteration 26, loss = 0.16564059\n",
      "Iteration 27, loss = 0.16663421\n",
      "Iteration 28, loss = 0.15150613\n",
      "Iteration 29, loss = 0.15052632\n",
      "Iteration 30, loss = 0.14564646\n",
      "Iteration 31, loss = 0.14167104\n",
      "Iteration 32, loss = 0.13736836\n",
      "Iteration 33, loss = 0.12316685\n",
      "Iteration 34, loss = 0.12524010\n",
      "Iteration 35, loss = 0.12587358\n",
      "Iteration 36, loss = 0.12221660\n",
      "Iteration 37, loss = 0.11841084\n",
      "Iteration 38, loss = 0.11161600\n",
      "Iteration 39, loss = 0.11364876\n",
      "Iteration 40, loss = 0.10444158\n",
      "Iteration 41, loss = 0.10657783\n",
      "Iteration 42, loss = 0.10592069\n",
      "Iteration 43, loss = 0.09528118\n",
      "Iteration 44, loss = 0.08595474\n",
      "Iteration 45, loss = 0.09463877\n",
      "Iteration 46, loss = 0.09412020\n",
      "Iteration 47, loss = 0.09665972\n",
      "Iteration 48, loss = 0.08784275\n",
      "Iteration 49, loss = 0.07567054\n",
      "Iteration 50, loss = 0.07556441\n",
      "Iteration 51, loss = 0.07134128\n",
      "Iteration 52, loss = 0.07432281\n",
      "Iteration 53, loss = 0.06807184\n",
      "Iteration 54, loss = 0.07648094\n",
      "Iteration 55, loss = 0.06108081\n",
      "Iteration 56, loss = 0.05474872\n",
      "Iteration 57, loss = 0.05147861\n",
      "Iteration 58, loss = 0.06609337\n",
      "Iteration 59, loss = 0.06053213\n",
      "Iteration 60, loss = 0.06085960\n",
      "Iteration 61, loss = 0.05873178\n",
      "Iteration 62, loss = 0.05091750\n",
      "Iteration 63, loss = 0.04296062\n",
      "Iteration 64, loss = 0.04859046\n",
      "Iteration 65, loss = 0.04365412\n",
      "Iteration 66, loss = 0.03869378\n",
      "Iteration 67, loss = 0.05300977\n",
      "Iteration 68, loss = 0.05501469\n",
      "Iteration 69, loss = 0.04949139\n",
      "Iteration 70, loss = 0.03544811\n",
      "Iteration 71, loss = 0.03463017\n",
      "Iteration 72, loss = 0.03040944\n",
      "Iteration 73, loss = 0.04241269\n",
      "Iteration 74, loss = 0.03934575\n",
      "Iteration 75, loss = 0.02923870\n",
      "Iteration 76, loss = 0.03178016\n",
      "Iteration 77, loss = 0.03098080\n",
      "Iteration 78, loss = 0.03740617\n",
      "Iteration 79, loss = 0.03211790\n",
      "Iteration 80, loss = 0.03771281\n",
      "Iteration 81, loss = 0.03679502\n",
      "Iteration 82, loss = 0.02635041\n",
      "Iteration 83, loss = 0.02061659\n",
      "Iteration 84, loss = 0.02136582\n",
      "Iteration 85, loss = 0.01899278\n",
      "Iteration 86, loss = 0.02620461\n",
      "Iteration 87, loss = 0.02914201\n",
      "Iteration 88, loss = 0.01642013\n",
      "Iteration 89, loss = 0.01545850\n",
      "Iteration 90, loss = 0.01691845\n",
      "Iteration 91, loss = 0.01213072\n",
      "Iteration 92, loss = 0.01383812\n",
      "Iteration 93, loss = 0.01229105\n",
      "Iteration 94, loss = 0.01061695\n",
      "Iteration 95, loss = 0.01068150\n",
      "Iteration 96, loss = 0.00936346\n",
      "Iteration 97, loss = 0.00890197\n",
      "Iteration 98, loss = 0.00757185\n",
      "Iteration 99, loss = 0.00769011\n",
      "Iteration 100, loss = 0.00641041\n",
      "Iteration 101, loss = 0.00643536\n",
      "Iteration 102, loss = 0.00631948\n",
      "Iteration 103, loss = 0.00651156\n",
      "Iteration 104, loss = 0.00500433\n",
      "Iteration 105, loss = 0.00505846\n",
      "Iteration 106, loss = 0.00462169\n",
      "Iteration 107, loss = 0.00488463\n",
      "Iteration 108, loss = 0.00706610\n",
      "Iteration 109, loss = 0.00736675\n",
      "Iteration 110, loss = 0.00516138\n",
      "Iteration 111, loss = 0.00433547\n",
      "Iteration 112, loss = 0.00401672\n",
      "Iteration 113, loss = 0.00364454\n",
      "Iteration 114, loss = 0.00358961\n",
      "Iteration 115, loss = 0.00357190\n",
      "Iteration 116, loss = 0.00358056\n",
      "Iteration 117, loss = 0.00338688\n",
      "Iteration 118, loss = 0.00310667\n",
      "Iteration 119, loss = 0.00304864\n",
      "Iteration 120, loss = 0.00291106\n",
      "Iteration 121, loss = 0.00285295\n",
      "Iteration 122, loss = 0.00276610\n",
      "Iteration 123, loss = 0.00308157\n",
      "Iteration 124, loss = 0.00281652\n",
      "Iteration 125, loss = 0.00272627\n",
      "Iteration 126, loss = 0.00273202\n",
      "Iteration 127, loss = 0.00254767\n",
      "Iteration 128, loss = 0.00261454\n",
      "Iteration 129, loss = 0.00251640\n",
      "Iteration 130, loss = 0.00276338\n",
      "Iteration 131, loss = 0.00243262\n",
      "Iteration 132, loss = 0.00240676\n",
      "Iteration 133, loss = 0.00232122\n",
      "Iteration 134, loss = 0.00232530\n",
      "Iteration 135, loss = 0.00228506\n",
      "Iteration 136, loss = 0.00231729\n",
      "Iteration 137, loss = 0.00221044\n",
      "Iteration 138, loss = 0.00220651\n",
      "Training loss did not improve more than tol=0.000100 for 10 consecutive epochs. Stopping.\n",
      "RESULTS FOR BEST NN\n",
      "\n",
      "Best NN training error: 0.000000\n",
      "Best NN test error: 0.139020\n"
     ]
    }
   ],
   "source": [
    "#get training and test error for the best NN model from CV\n",
    "\n",
    "best_mlp_large = MLPClassifier(max_iter=300, alpha=1e-4, solver='sgd', tol=1e-4, learning_rate_init=.1, random_state=ID, verbose=True, hidden_layer_sizes=hl_parameters['hidden_layer_sizes'][mlp_large_cv.best_index_])\n",
    "best_mlp_large.fit(X_train, y_train)\n",
    "\n",
    "training_error = 1. - best_mlp_large.score(X_train, y_train)\n",
    "test_error = 1. - best_mlp_large.score(X_test, y_test)\n",
    "\n",
    "print ('RESULTS FOR BEST NN\\n')\n",
    "\n",
    "print (\"Best NN training error: %f\" % training_error)\n",
    "print (\"Best NN test error: %f\" % test_error)"
   ]
  },
  {
   "cell_type": "markdown",
   "metadata": {},
   "source": [
    "## TO DO 7\n",
    "\n",
    "Compare the train and test error you got with a large number of samples with the best one you obtained with only 500 data points. Are the architectures the same or do they differ? What about the errors you get?"
   ]
  },
  {
   "cell_type": "markdown",
   "metadata": {},
   "source": [
    "Trained the system with several elements, I anticipate that the test error decreases. As a matter of facts ma expectations were confirmed: test error indeed decreased.\n",
    "\n",
    "Since the architecture has not changed (100 nodes in a single layer), I can easily check the increased performance of the system: the gain on the error was about 30%."
   ]
  },
  {
   "cell_type": "markdown",
   "metadata": {},
   "source": [
    "## TO DO 8\n",
    "\n",
    "Plot an image that was missclassified by NN with m=500 training data points and it is now instead correctly classified by NN with m=10000 training data points."
   ]
  },
  {
   "cell_type": "code",
   "execution_count": 13,
   "metadata": {},
   "outputs": [
    {
     "name": "stdout",
     "output_type": "stream",
     "text": [
      "Index of element:  141\n",
      "INPUT:\n"
     ]
    },
    {
     "data": {
      "image/png": "[encoded data removed]",
      "text/plain": [
       "<Figure size 432x288 with 1 Axes>"
      ]
     },
     "metadata": {
      "needs_background": "light"
     },
     "output_type": "display_data"
    },
    {
     "name": "stdout",
     "output_type": "stream",
     "text": [
      "LABEL: 6\n",
      "Label predicted by mlp_small:  2\n",
      "Label predicted by mlp_large:  6\n"
     ]
    }
   ],
   "source": [
    "# in 'misclassified_small' are stored the index of all misclassified elements of 'X_test', by 'best_mlp_small'\n",
    "prediction_small = best_mlp_small.predict(X_test)\n",
    "misclassified_small = np.where(y_test != prediction_small)[0]\n",
    "\n",
    "# in 'misclassified_large' are stored the index of all misclassified elements of 'X_test', by 'best_mlp_large'\n",
    "prediction_large = best_mlp_large.predict(X_test)\n",
    "misclassified_large = np.where(y_test != prediction_large)[0]\n",
    "\n",
    "\n",
    "# here are stored the index of all misclassified element of 'best_mlp_small'\n",
    "# which are correctly classified by 'best_mlp_large'\n",
    "# (this is the 'difference' operation between two sets)\n",
    "small_misclassified__large_correct = np.setdiff1d(misclassified_small, misclassified_large, assume_unique=True)\n",
    "\n",
    "# randomly, it is chosen an index for the previous array\n",
    "randomIndex = np.random.randint(0, high=len(small_misclassified__large_correct), size=1)[0]\n",
    "\n",
    "# the cell of index 'randomIndex' of the array 'lr_misclassified__SVM_correct'\n",
    "# is the index of an element of 'X_test' that is misclassified by 'lr_cv',\n",
    "# but is correctly classified by 'best_SVM'\n",
    "index_toPlot = small_misclassified__large_correct[randomIndex]\n",
    "\n",
    "\n",
    "print(\"Index of element: \", index_toPlot)\n",
    "plot_input(X_test, y_test, index_toPlot)\n",
    "print(\"Label predicted by mlp_small: \", prediction_small[index_toPlot])\n",
    "print(\"Label predicted by mlp_large: \", prediction_large[index_toPlot])"
   ]
  },
  {
   "cell_type": "markdown",
   "metadata": {},
   "source": [
    "Let's plot some of the weigths of the multi-layer perceptron classifier, for the best NN we get with 500 data points and with 10000 data points. The code below plots the weights in a matrix form, where a figure represents all the weights of the edges entering in a hidden node. Notice that the code assumes that the NNs are called \"mlp\" and \"best_mlp_large\": you may need to replace such variables with your variable names. \n",
    "\n"
   ]
  },
  {
   "cell_type": "code",
   "execution_count": 14,
   "metadata": {},
   "outputs": [
    {
     "name": "stdout",
     "output_type": "stream",
     "text": [
      "Weights with 500 data points:\n"
     ]
    },
    {
     "data": {
      "image/png": "[encoded data removed]",
      "text/plain": [
       "<Figure size 432x288 with 16 Axes>"
      ]
     },
     "metadata": {},
     "output_type": "display_data"
    },
    {
     "name": "stdout",
     "output_type": "stream",
     "text": [
      "Weights with 10000 data points:\n"
     ]
    },
    {
     "data": {
      "image/png": "[encoded data removed]",
      "text/plain": [
       "<Figure size 432x288 with 16 Axes>"
      ]
     },
     "metadata": {},
     "output_type": "display_data"
    }
   ],
   "source": [
    "print(\"Weights with 500 data points:\")\n",
    "\n",
    "fig, axes = plt.subplots(4, 4)\n",
    "vmin, vmax = best_mlp_small.coefs_[0].min(), best_mlp_small.coefs_[0].max()\n",
    "for coef, ax in zip(best_mlp_small.coefs_[0].T, axes.ravel()):\n",
    "    ax.matshow(coef.reshape(28, 28), cmap=plt.cm.gray, vmin=.5 * vmin, vmax=.5 * vmax)\n",
    "    ax.set_xticks(())\n",
    "    ax.set_yticks(())\n",
    "\n",
    "plt.show()\n",
    "\n",
    "print(\"Weights with 10000 data points:\")\n",
    "\n",
    "fig, axes = plt.subplots(4, 4)\n",
    "vmin, vmax = best_mlp_large.coefs_[0].min(), best_mlp_large.coefs_[0].max()\n",
    "for coef, ax in zip(best_mlp_large.coefs_[0].T, axes.ravel()):\n",
    "    ax.matshow(coef.reshape(28, 28), cmap=plt.cm.gray, vmin=.5 * vmin, vmax=.5 * vmax)\n",
    "    ax.set_xticks(())\n",
    "    ax.set_yticks(())\n",
    "plt.show()"
   ]
  },
  {
   "cell_type": "markdown",
   "metadata": {},
   "source": [
    "## TO DO 9\n",
    "\n",
    "Describe what do you observe by looking at the weights."
   ]
  },
  {
   "cell_type": "markdown",
   "metadata": {},
   "source": [
    "The first thing that catches the eye is the different granularity of the images. As there are, in the second case, more filters tend to be much more precise, so the granularity decreases."
   ]
  },
  {
   "cell_type": "markdown",
   "metadata": {},
   "source": [
    "## TO DO 10\n",
    "\n",
    "Pick another classifier among the ones we have seen previously (SVM or something else). Report the training and test error for such classifier with 10000 samples in the training set, if possible; if the classifier cannot run with so many data sample reduce the number of samples.\n",
    "\n",
    "*Note*: if there are parameters to be optimized use cross-validation. If you choose SVM, you can decide if you want to use a single kernel or use the best among many; in the latter case, you need to pick the best kernel using cross-validation (using the functions available in sklearn).\n",
    "\n",
    "**[WRITE HERE WHAT CLASSIFIER YOU ARE CHOOSING AND WHAT PARAMETERS YOU NEED TO SET.]**\n",
    "\n",
    "I decided to use the model with SVM because its use is indicated for classification problems like this, where the data is not structured.\n",
    "\n",
    "To be more efficient, I decided to test the model also in the various kernel options. So I copied and pasted the code used in the Homework to the SVM."
   ]
  },
  {
   "cell_type": "code",
   "execution_count": 15,
   "metadata": {},
   "outputs": [
    {
     "name": "stdout",
     "output_type": "stream",
     "text": [
      "RESULTS FOR LINEAR KERNEL\n",
      "\n",
      "Best parameters set found:\n",
      "{'C': 1}\n",
      "Score with best parameters:\n",
      "0.8365\n",
      "\n",
      "All scores on the grid:\n",
      "{'C': 1}  -->  0.8365\n",
      "{'C': 10}  -->  0.8139\n",
      "{'C': 100}  -->  0.8097999999999999\n",
      "\n",
      "\n",
      "----------------------\n",
      "\n",
      "\n",
      "RESULTS FOR POLY DEGREE=2 KERNEL\n",
      "\n",
      "Best parameters set found:\n",
      "{'C': 10, 'gamma': 0.01}\n",
      "Score with best parameters:\n",
      "0.8547\n",
      "\n",
      "All scores on the grid:\n",
      "{'C': 1, 'gamma': 0.01}  -->  0.8455999999999999\n",
      "{'C': 1, 'gamma': 0.1}  -->  0.8536999999999999\n",
      "{'C': 1, 'gamma': 1.0}  -->  0.8489000000000001\n",
      "{'C': 10, 'gamma': 0.01}  -->  0.8547\n",
      "{'C': 10, 'gamma': 0.1}  -->  0.849\n",
      "{'C': 10, 'gamma': 1.0}  -->  0.8489000000000001\n",
      "{'C': 100, 'gamma': 0.01}  -->  0.8536999999999999\n",
      "{'C': 100, 'gamma': 0.1}  -->  0.849\n",
      "{'C': 100, 'gamma': 1.0}  -->  0.8489000000000001\n",
      "\n",
      "\n",
      "----------------------\n",
      "\n",
      "\n",
      "RESULTS FOR rbf KERNEL\n",
      "\n",
      "Best parameters set found:\n",
      "{'C': 10, 'gamma': 0.01}\n",
      "Score with best parameters:\n",
      "0.8739000000000001\n",
      "\n",
      "All scores on the grid:\n",
      "{'C': 1, 'gamma': 0.01}  -->  0.8622\n",
      "{'C': 1, 'gamma': 0.1}  -->  0.7965\n",
      "{'C': 1, 'gamma': 1.0}  -->  0.12999999999999998\n",
      "{'C': 10, 'gamma': 0.01}  -->  0.8739000000000001\n",
      "{'C': 10, 'gamma': 0.1}  -->  0.8085000000000001\n",
      "{'C': 10, 'gamma': 1.0}  -->  0.1392\n",
      "{'C': 100, 'gamma': 0.01}  -->  0.8734\n",
      "{'C': 100, 'gamma': 0.1}  -->  0.8085000000000001\n",
      "{'C': 100, 'gamma': 1.0}  -->  0.1392\n"
     ]
    }
   ],
   "source": [
    "#import SVC\n",
    "from sklearn.svm import SVC\n",
    "#import for Cross-Validation\n",
    "from sklearn.model_selection import GridSearchCV\n",
    "\n",
    "# parameters for linear SVM\n",
    "parameters = {'C': [1, 10, 100]}\n",
    "\n",
    "#run linear SVM\n",
    "linear_SVM = SVC(kernel='linear')\n",
    "\n",
    "#find best model using 5-fold CV \n",
    "#and train it using all the training data\n",
    "\n",
    "linear_SVM_cv = GridSearchCV(linear_SVM, parameters) # cv default value if None: 5-fold.\n",
    "linear_SVM_cv.fit(X_train, y_train)\n",
    "\n",
    "print('RESULTS FOR LINEAR KERNEL\\n')\n",
    "\n",
    "print(\"Best parameters set found:\")\n",
    "print(linear_SVM_cv.best_params_)\n",
    "\n",
    "print(\"Score with best parameters:\")\n",
    "print(linear_SVM_cv.best_score_)\n",
    "\n",
    "print(\"\\nAll scores on the grid:\")\n",
    "for i in range(len(linear_SVM_cv.cv_results_['params'])):\n",
    "    print(linear_SVM_cv.cv_results_['params'][i], \" --> \", linear_SVM_cv.cv_results_['mean_test_score'][i])\n",
    "\n",
    "print(\"\\n\\n----------------------\\n\")\n",
    "\n",
    "\n",
    "\n",
    "\n",
    "# parameters for poly with degree 2 kernel\n",
    "parameters = {'C': [1, 10, 100],'gamma':[0.01,0.1,1.]}\n",
    "\n",
    "#run SVM with poly of degree 2 kernel\n",
    "poly2_SVM = SVC(kernel='poly',degree=2)\n",
    "\n",
    "# ADD CODE: DO THE SAME AS ABOVE FOR POLYNOMIAL KERNEL WITH DEGREE=2\n",
    "poly2_SVM_cv = GridSearchCV(poly2_SVM, parameters)\n",
    "poly2_SVM_cv.fit(X_train, y_train)\n",
    "\n",
    "print('\\nRESULTS FOR POLY DEGREE=2 KERNEL\\n')\n",
    "\n",
    "print(\"Best parameters set found:\")\n",
    "print(poly2_SVM_cv.best_params_)\n",
    "\n",
    "print(\"Score with best parameters:\")\n",
    "print(poly2_SVM_cv.best_score_)\n",
    "\n",
    "print(\"\\nAll scores on the grid:\")\n",
    "for i in range(len(poly2_SVM_cv.cv_results_['params'])):\n",
    "    print(poly2_SVM_cv.cv_results_['params'][i], \" --> \", poly2_SVM_cv.cv_results_['mean_test_score'][i])\n",
    "\n",
    "print(\"\\n\\n----------------------\\n\")\n",
    "\n",
    "\n",
    "\n",
    "\n",
    "# parameters for rbf SVM\n",
    "parameters = {'C': [1, 10, 100],'gamma':[0.01,0.1,1.]}\n",
    "\n",
    "#run SVM with rbf kernel\n",
    "rbf_SVM = SVC(kernel='rbf')\n",
    "\n",
    "# ADD CODE: DO THE SAME AS ABOVE FOR RBF KERNEL\n",
    "rbf_SVM_cv = GridSearchCV(rbf_SVM, parameters)\n",
    "rbf_SVM_cv.fit(X_train, y_train)\n",
    "\n",
    "print('\\nRESULTS FOR rbf KERNEL\\n')\n",
    "\n",
    "print(\"Best parameters set found:\")\n",
    "print(rbf_SVM_cv.best_params_)\n",
    "\n",
    "print(\"Score with best parameters:\")\n",
    "print(rbf_SVM_cv.best_score_)\n",
    "\n",
    "print(\"\\nAll scores on the grid:\")\n",
    "for i in range(len(rbf_SVM_cv.cv_results_['params'])):\n",
    "    print(rbf_SVM_cv.cv_results_['params'][i], \" --> \", rbf_SVM_cv.cv_results_['mean_test_score'][i])\n"
   ]
  },
  {
   "cell_type": "code",
   "execution_count": 16,
   "metadata": {},
   "outputs": [
    {
     "name": "stdout",
     "output_type": "stream",
     "text": [
      "RESULTS FOR OTHER CLASSIFIER\n",
      "\n",
      "Best training error (other model): 0.014500\n",
      "Best test error (other model): 0.124100\n"
     ]
    }
   ],
   "source": [
    "#get training and test error for the best SVM model from CV\n",
    "best_SVM = SVC(C=10, kernel='rbf', gamma=0.01)\n",
    "\n",
    "# fit the model on the entire training set\n",
    "best_SVM.fit(X_train, y_train)\n",
    "\n",
    "\n",
    "training_error_other = 1. - best_SVM.score(X_train,y_train)\n",
    "test_error_other = 1. - best_SVM.score(X_test,y_test)\n",
    "\n",
    "print ('RESULTS FOR OTHER CLASSIFIER\\n')\n",
    "\n",
    "print (\"Best training error (other model): %f\" % training_error_other)\n",
    "print (\"Best test error (other model): %f\" % test_error_other)"
   ]
  },
  {
   "cell_type": "markdown",
   "metadata": {},
   "source": [
    "## TO DO 11\n",
    "Compare the results of NN and of the other classifier you have chosen above. Which classifier would you preferer? Provide a brief explanation."
   ]
  },
  {
   "cell_type": "markdown",
   "metadata": {},
   "source": [
    "| | Best NN | Best SVM (other model) |\n",
    "| :-: | :-: | :-: |\n",
    "| Training error | 0.000000 | 0.014500 |\n",
    "| Test error | 0.139020 | 0.124100 |\n",
    "\n",
    "\n",
    "As we can see in the table above, the best training error is given by the Neural Network, that fits perfectly the training set. But the model formed by SVM, in particular with an 'rbf' kernel, gets a better results."
   ]
  },
  {
   "cell_type": "markdown",
   "metadata": {},
   "source": [
    "# Clustering with K-means\n",
    "\n",
    "Clustering is a useful technique for *unsupervised* learning. We are now going to cluster 2000 images in the fashion MNIST dataset, and try to understand if the clusters we obtain correspond to the true labels."
   ]
  },
  {
   "cell_type": "code",
   "execution_count": 17,
   "metadata": {},
   "outputs": [],
   "source": [
    "#load the required packages\n",
    "\n",
    "from sklearn import metrics\n",
    "from sklearn.cluster import KMeans"
   ]
  },
  {
   "cell_type": "markdown",
   "metadata": {},
   "source": [
    "(Note that the code below assumes that the data has already been transformed as in the NN part of the notebook, so make sure to run the code for the transformation even if you do not complete the part on NN.)"
   ]
  },
  {
   "cell_type": "code",
   "execution_count": 18,
   "metadata": {},
   "outputs": [],
   "source": [
    "#let's consider only 2000 data points\n",
    "\n",
    "X = X[permutation]\n",
    "y = y[permutation]\n",
    "\n",
    "m_training = 2000\n",
    "\n",
    "X_train, X_test = X[:m_training], X[m_training:]\n",
    "y_train, y_test = y[:m_training], y[m_training:]"
   ]
  },
  {
   "cell_type": "markdown",
   "metadata": {},
   "source": [
    "## TO DO 1\n",
    "Cluster the points using the KMeans() and fit() functions (see the userguide for details). For Kmeans, set: n_clusters=10 as number of clusters; n_init=10 as the number of times the algorithm will be run with different centroid seeds; random_state = ID. You can use the default setting for the other parameters."
   ]
  },
  {
   "cell_type": "code",
   "execution_count": 19,
   "metadata": {},
   "outputs": [
    {
     "data": {
      "text/plain": [
       "KMeans(n_clusters=10, random_state=2023860)"
      ]
     },
     "execution_count": 19,
     "metadata": {},
     "output_type": "execute_result"
    }
   ],
   "source": [
    "kmeans = KMeans(n_clusters=10, n_init=10, random_state=ID)\n",
    "kmeans.fit(X_train)"
   ]
  },
  {
   "cell_type": "markdown",
   "metadata": {},
   "source": [
    "## Comparison of clusters with true labels"
   ]
  },
  {
   "cell_type": "markdown",
   "metadata": {},
   "source": [
    "## TO DO 2\n",
    "Now compare the obtained clusters with the true labels, using the function sklearn.metrics.cluster.contingency_matrix() (see the userguide for details). The function prints a matrix $A$ such that entry $A_{i,j}$ is is the number of samples in true class $i$ and in predicted class $j$."
   ]
  },
  {
   "cell_type": "code",
   "execution_count": 20,
   "metadata": {},
   "outputs": [
    {
     "name": "stdout",
     "output_type": "stream",
     "text": [
      "[[ 10   1  37   0 102   0  70   4   0   0]\n",
      " [  5   1   8   0   1   0   5   0   0 180]\n",
      " [ 13 126   5   0   1   0  65   2   0   1]\n",
      " [ 10   4  83   0   3   0  12   0   0  67]\n",
      " [  7  94  22   0   0   0  29   0   0   4]\n",
      " [141   0   0  36   0   7   1   0  22   0]\n",
      " [ 18  65  19   0  17   0  87   5   0   1]\n",
      " [ 14   0   0 164   0   1   0   0  33   0]\n",
      " [ 18  11   4  11   1   0  37 118   4   0]\n",
      " [  3   0   0   6   0  89   0   0  95   0]]\n"
     ]
    }
   ],
   "source": [
    "# compute and print the contingency matrix for the true labels vs the clustering assignments\n",
    "contingency_matrix = metrics.cluster.contingency_matrix(y_train, kmeans.predict(X_train))\n",
    "\n",
    "print(contingency_matrix)"
   ]
  },
  {
   "cell_type": "markdown",
   "metadata": {},
   "source": [
    "## TO DO 3\n",
    "Based on the matrix shown above, comment on the results of clustering in terms of adherence to the true labels."
   ]
  },
  {
   "cell_type": "markdown",
   "metadata": {},
   "source": [
    "I expect the diagonal values to be much higher than the other cells. If so, the system would be able to classify the elements correctly.\n",
    "\n",
    "Unfortunately, however, this does not happen. This means that the classifier is not optimized for the data provided."
   ]
  },
  {
   "cell_type": "markdown",
   "metadata": {},
   "source": [
    "## Choice of k with silhoutte coefficient\n",
    "In many real applications it is unclear what is the correct value of $k$ to use. In practice one tries different values of $k$ and then uses some external score to choose a value of $k$. One such score is the silhoutte coefficient, that can be computed with metrics.silhouette_score(). See the definition of the silhoutte coefficient in the userguide."
   ]
  },
  {
   "cell_type": "markdown",
   "metadata": {},
   "source": [
    "## TO DO 4\n",
    "Compute the clustering for k=2,3,...,15 (other parameters as above) and print the silhoutte coefficient for each such clustering."
   ]
  },
  {
   "cell_type": "code",
   "execution_count": 21,
   "metadata": {},
   "outputs": [
    {
     "name": "stdout",
     "output_type": "stream",
     "text": [
      "Silhoutte coefficient for number of clusters=2: 0.19314824870876038\n",
      "Silhoutte coefficient for number of clusters=3: 0.18094746203810433\n",
      "Silhoutte coefficient for number of clusters=4: 0.1787885907990329\n",
      "Silhoutte coefficient for number of clusters=5: 0.16083838089351862\n",
      "Silhoutte coefficient for number of clusters=6: 0.1559824790592045\n",
      "Silhoutte coefficient for number of clusters=7: 0.16614471527610183\n",
      "Silhoutte coefficient for number of clusters=8: 0.1536227816365815\n",
      "Silhoutte coefficient for number of clusters=9: 0.15069359645950592\n",
      "Silhoutte coefficient for number of clusters=10: 0.1432059332857116\n",
      "Silhoutte coefficient for number of clusters=11: 0.14197405064412666\n",
      "Silhoutte coefficient for number of clusters=12: 0.14309468048102203\n",
      "Silhoutte coefficient for number of clusters=13: 0.1346334651291346\n",
      "Silhoutte coefficient for number of clusters=14: 0.1311758543660876\n",
      "Silhoutte coefficient for number of clusters=15: 0.12300715858739861\n"
     ]
    }
   ],
   "source": [
    "#run k-means with 10 choices of initial centroids for a range of values of n_clusters\n",
    "\n",
    "for i in range(2,16):\n",
    "    kmeans = KMeans(n_clusters=i, n_init=10, random_state=ID)\n",
    "    kmeans.fit(X_train)\n",
    "    \n",
    "    predicted = kmeans.predict(X_test)\n",
    "    \n",
    "    silhouttescore = metrics.silhouette_score(X_test, predicted, metric=\"euclidean\", random_state=ID)\n",
    "    print(\"Silhoutte coefficient for number of clusters=\"+str(i)+\": \"+str(silhouttescore))"
   ]
  },
  {
   "cell_type": "markdown",
   "metadata": {},
   "source": [
    "## TO DO 5\n",
    "\n",
    "Based on the silhoutte score, which $k$ would you pick? Motivate your choice. Does your choice match what you know about the data? If yes, explain why you think this is the case; if no, explain what you think may be the reason."
   ]
  },
  {
   "cell_type": "markdown",
   "metadata": {},
   "source": [
    "As seen above, the kmeans model does not work best for this type of data. A further test has given us the choice of ```k``` with the coefficient of silhouette. In fact, for the sake of logic, the ideal should be ```k=10```, since there are ten types of clothes. The maximum score is obtained, however, with ```k=2```, that is dividing the set of data into only two groups.\n",
    "\n",
    "The low value for the silhouette coefficient gives us further confirmation that the kmeans model is not ideal for this type of classification."
   ]
  },
  {
   "cell_type": "code",
   "execution_count": null,
   "metadata": {},
   "outputs": [],
   "source": []
  }
 ],
 "metadata": {
  "kernelspec": {
   "display_name": "Python 3 (ipykernel)",
   "language": "python",
   "name": "python3"
  },
  "language_info": {
   "codemirror_mode": {
    "name": "ipython",
    "version": 3
   },
   "file_extension": ".py",
   "mimetype": "text/x-python",
   "name": "python",
   "nbconvert_exporter": "python",
   "pygments_lexer": "ipython3",
   "version": "3.9.2"
  }
 },
 "nbformat": 4,
 "nbformat_minor": 4
}
