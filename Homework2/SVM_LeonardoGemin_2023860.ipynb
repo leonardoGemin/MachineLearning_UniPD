{
 "cells": [
  {
   "cell_type": "markdown",
   "metadata": {},
   "source": [
    "# SVM for classification, without and with kernels\n",
    "\n",
    "In this notebook we are going to explore the use of Support Vector Machines (SVMs) for image classification. We are going to use the famous MNIST dataset, that is a dataset of handwritten digits. We get the data from mldata.org, that is a public repository for machine learning data.\n",
    "\n",
    "The dataset consists of 70,000 images of handwritten digits (i.e., 0, 1, ... 9). Each image is 28 pixels by 28 pixels and we can think of it as a vector of 28x28 = 784 numbers. Each number is an integer between 0 and 255. For each image we have the corresponding label (i.e., 0, 1, ..., 9)."
   ]
  },
  {
   "cell_type": "code",
   "execution_count": 1,
   "metadata": {},
   "outputs": [],
   "source": [
    "#load the required packages\n",
    "\n",
    "%matplotlib inline  \n",
    "\n",
    "import numpy as np\n",
    "import matplotlib.pyplot as plt\n",
    "\n",
    "import sklearn\n",
    "from sklearn.datasets import fetch_openml"
   ]
  },
  {
   "cell_type": "code",
   "execution_count": 2,
   "metadata": {},
   "outputs": [],
   "source": [
    "#fix your ID (\"numero di matricola\") and the seed for random generator\n",
    "ID = 2023860\n",
    "np.random.seed(ID)"
   ]
  },
  {
   "cell_type": "markdown",
   "metadata": {},
   "source": [
    "Now let's load the dataset. 'data' contains the input, 'target' contains the label. We normalize the data by dividing each value by 255 so that each value is in [0,1]"
   ]
  },
  {
   "cell_type": "code",
   "execution_count": 3,
   "metadata": {},
   "outputs": [],
   "source": [
    "#load the MNIST dataset and let's normalize the features so that each value is in [0,1]\n",
    "mnist = fetch_openml('mnist_784', version=1)\n",
    "# rescale the data\n",
    "X, y = mnist.data.to_numpy() / 255., mnist.target.to_numpy()"
   ]
  },
  {
   "cell_type": "markdown",
   "metadata": {},
   "source": [
    "Now split into training and test. We keep 500 samples in the training set. Make sure that each label is present at least 10 times\n",
    "in training. If it is not, then keep adding permutations to the initial data until this \n",
    "happens.\n",
    "\n",
    "**IMPORTANT**: if you cannot run the SVM with 500 samples or 1000 samples (see below), try with a smaller number of samples (e.g. 200 here and 400 below)."
   ]
  },
  {
   "cell_type": "code",
   "execution_count": 4,
   "metadata": {},
   "outputs": [
    {
     "name": "stdout",
     "output_type": "stream",
     "text": [
      "Labels and frequencies in training dataset: \n"
     ]
    },
    {
     "data": {
      "text/plain": [
       "(array(['0', '1', '2', '3', '4', '5', '6', '7', '8', '9'], dtype=object),\n",
       " array([47, 64, 54, 46, 51, 45, 51, 56, 43, 43]))"
      ]
     },
     "execution_count": 4,
     "metadata": {},
     "output_type": "execute_result"
    }
   ],
   "source": [
    "#random permute the data and split into training and test taking the first 500\n",
    "#data samples as training and the rests as test\n",
    "permutation = np.random.permutation(X.shape[0])\n",
    "\n",
    "X = X[permutation]\n",
    "y = y[permutation]\n",
    "\n",
    "m_training = 500\n",
    "\n",
    "X_train, X_test = X[:m_training], X[m_training:]\n",
    "y_train, y_test = y[:m_training], y[m_training:]\n",
    "\n",
    "print(\"Labels and frequencies in training dataset: \")\n",
    "np.unique(y_train, return_counts = True)"
   ]
  },
  {
   "cell_type": "markdown",
   "metadata": {},
   "source": [
    "We now provide a function to print an image in a dataset, the corresponding true label, and the index of the image in the dataset."
   ]
  },
  {
   "cell_type": "code",
   "execution_count": 5,
   "metadata": {},
   "outputs": [],
   "source": [
    "#function for plotting a digit and printing the corresponding labe\n",
    "def plot_digit(X_matrix, labels, index):\n",
    "    print(\"INPUT:\")\n",
    "    plt.imshow(\n",
    "        X_matrix[index].reshape(28,28),\n",
    "        cmap          = plt.cm.gray_r,\n",
    "        interpolation = \"nearest\"\n",
    "    )\n",
    "    plt.show()\n",
    "    print(\"LABEL: %s\" % labels[index])\n",
    "    return"
   ]
  },
  {
   "cell_type": "markdown",
   "metadata": {},
   "source": [
    "As an example, let's print the 100-th image in X_train and the 40,000-th image in X_test and their true labels."
   ]
  },
  {
   "cell_type": "code",
   "execution_count": 6,
   "metadata": {},
   "outputs": [
    {
     "name": "stdout",
     "output_type": "stream",
     "text": [
      "INPUT:\n"
     ]
    },
    {
     "data": {
      "image/png": "[encoded data removed]",
      "text/plain": [
       "<Figure size 432x288 with 1 Axes>"
      ]
     },
     "metadata": {
      "needs_background": "light"
     },
     "output_type": "display_data"
    },
    {
     "name": "stdout",
     "output_type": "stream",
     "text": [
      "LABEL: 1\n",
      "INPUT:\n"
     ]
    },
    {
     "data": {
      "image/png": "[encoded data removed]",
      "text/plain": [
       "<Figure size 432x288 with 1 Axes>"
      ]
     },
     "metadata": {
      "needs_background": "light"
     },
     "output_type": "display_data"
    },
    {
     "name": "stdout",
     "output_type": "stream",
     "text": [
      "LABEL: 0\n"
     ]
    }
   ],
   "source": [
    "#let's try the plotting function\n",
    "plot_digit(X_train,y_train,100)\n",
    "plot_digit(X_test,y_test,40000)"
   ]
  },
  {
   "cell_type": "markdown",
   "metadata": {},
   "source": [
    "## TO DO 1\n",
    "Run SVM with cross validation to pick a kernel and values of parameters. Use a 5-fold cross-validation to pick the best kernel and choice of parameters. We provide some potential choice for parameters, but change the grid if needed (e.g., it takes too long). For the SVM for classification use SVC from sklearn.svm; for the grid search we suggest you use GridSearchCV from sklearn.model_selection, but you can implement your own cross-validation for model selection if you prefer.\n",
    "\n",
    "Print the best parameters used as well as the score obtained by the best model"
   ]
  },
  {
   "cell_type": "code",
   "execution_count": 7,
   "metadata": {},
   "outputs": [
    {
     "name": "stdout",
     "output_type": "stream",
     "text": [
      "RESULTS FOR LINEAR KERNEL\n",
      "\n",
      "Best parameters set found:\n",
      "{'C': 1}\n",
      "Score with best parameters:\n",
      "0.852\n",
      "\n",
      "All scores on the grid:\n",
      "{'C': 1}  -->  0.852\n",
      "{'C': 10}  -->  0.852\n",
      "{'C': 100}  -->  0.852\n",
      "\n",
      "\n",
      "----------------------\n",
      "\n",
      "\n",
      "RESULTS FOR POLY DEGREE=2 KERNEL\n",
      "\n",
      "Best parameters set found:\n",
      "{'C': 1, 'gamma': 0.1}\n",
      "Score with best parameters:\n",
      "0.866\n",
      "\n",
      "All scores on the grid:\n",
      "{'C': 1, 'gamma': 0.01}  -->  0.8320000000000001\n",
      "{'C': 1, 'gamma': 0.1}  -->  0.866\n",
      "{'C': 1, 'gamma': 1.0}  -->  0.866\n",
      "{'C': 10, 'gamma': 0.01}  -->  0.8640000000000001\n",
      "{'C': 10, 'gamma': 0.1}  -->  0.866\n",
      "{'C': 10, 'gamma': 1.0}  -->  0.866\n",
      "{'C': 100, 'gamma': 0.01}  -->  0.866\n",
      "{'C': 100, 'gamma': 0.1}  -->  0.866\n",
      "{'C': 100, 'gamma': 1.0}  -->  0.866\n",
      "\n",
      "\n",
      "----------------------\n",
      "\n",
      "\n",
      "RESULTS FOR rbf KERNEL\n",
      "\n",
      "Best parameters set found:\n",
      "{'C': 10, 'gamma': 0.01}\n",
      "Score with best parameters:\n",
      "0.884\n",
      "\n",
      "All scores on the grid:\n",
      "{'C': 1, 'gamma': 0.01}  -->  0.874\n",
      "{'C': 1, 'gamma': 0.1}  -->  0.462\n",
      "{'C': 1, 'gamma': 1.0}  -->  0.128\n",
      "{'C': 10, 'gamma': 0.01}  -->  0.884\n",
      "{'C': 10, 'gamma': 0.1}  -->  0.514\n",
      "{'C': 10, 'gamma': 1.0}  -->  0.128\n",
      "{'C': 100, 'gamma': 0.01}  -->  0.884\n",
      "{'C': 100, 'gamma': 0.1}  -->  0.514\n",
      "{'C': 100, 'gamma': 1.0}  -->  0.128\n"
     ]
    }
   ],
   "source": [
    "#import SVC\n",
    "from sklearn.svm import SVC\n",
    "#import for Cross-Validation\n",
    "from sklearn.model_selection import GridSearchCV\n",
    "\n",
    "# parameters for linear SVM\n",
    "parameters = {'C': [1, 10, 100]}\n",
    "\n",
    "#run linear SVM\n",
    "linear_SVM = SVC(kernel='linear')\n",
    "\n",
    "#find best model using 5-fold CV \n",
    "#and train it using all the training data\n",
    "\n",
    "linear_SVM_cv = GridSearchCV(linear_SVM, parameters) # cv default value if None: 5-fold.\n",
    "linear_SVM_cv.fit(X_train, y_train)\n",
    "\n",
    "print('RESULTS FOR LINEAR KERNEL\\n')\n",
    "\n",
    "print(\"Best parameters set found:\")\n",
    "print(linear_SVM_cv.best_params_)\n",
    "\n",
    "print(\"Score with best parameters:\")\n",
    "print(linear_SVM_cv.best_score_)\n",
    "\n",
    "print(\"\\nAll scores on the grid:\")\n",
    "for i in range(len(linear_SVM_cv.cv_results_['params'])):\n",
    "    print(linear_SVM_cv.cv_results_['params'][i], \" --> \", linear_SVM_cv.cv_results_['mean_test_score'][i])\n",
    "\n",
    "print(\"\\n\\n----------------------\\n\")\n",
    "\n",
    "\n",
    "\n",
    "\n",
    "# parameters for poly with degree 2 kernel\n",
    "parameters = {'C': [1, 10, 100],'gamma':[0.01,0.1,1.]}\n",
    "\n",
    "#run SVM with poly of degree 2 kernel\n",
    "poly2_SVM = SVC(kernel='poly',degree=2)\n",
    "\n",
    "# ADD CODE: DO THE SAME AS ABOVE FOR POLYNOMIAL KERNEL WITH DEGREE=2\n",
    "poly2_SVM_cv = GridSearchCV(poly2_SVM, parameters)\n",
    "poly2_SVM_cv.fit(X_train, y_train)\n",
    "\n",
    "print('\\nRESULTS FOR POLY DEGREE=2 KERNEL\\n')\n",
    "\n",
    "print(\"Best parameters set found:\")\n",
    "print(poly2_SVM_cv.best_params_)\n",
    "\n",
    "print(\"Score with best parameters:\")\n",
    "print(poly2_SVM_cv.best_score_)\n",
    "\n",
    "print(\"\\nAll scores on the grid:\")\n",
    "for i in range(len(poly2_SVM_cv.cv_results_['params'])):\n",
    "    print(poly2_SVM_cv.cv_results_['params'][i], \" --> \", poly2_SVM_cv.cv_results_['mean_test_score'][i])\n",
    "\n",
    "print(\"\\n\\n----------------------\\n\")\n",
    "\n",
    "\n",
    "\n",
    "\n",
    "# parameters for rbf SVM\n",
    "parameters = {'C': [1, 10, 100],'gamma':[0.01,0.1,1.]}\n",
    "\n",
    "#run SVM with rbf kernel\n",
    "rbf_SVM = SVC(kernel='rbf')\n",
    "\n",
    "# ADD CODE: DO THE SAME AS ABOVE FOR RBF KERNEL\n",
    "rbf_SVM_cv = GridSearchCV(rbf_SVM, parameters)\n",
    "rbf_SVM_cv.fit(X_train, y_train)\n",
    "\n",
    "print('\\nRESULTS FOR rbf KERNEL\\n')\n",
    "\n",
    "print(\"Best parameters set found:\")\n",
    "print(rbf_SVM_cv.best_params_)\n",
    "\n",
    "print(\"Score with best parameters:\")\n",
    "print(rbf_SVM_cv.best_score_)\n",
    "\n",
    "print(\"\\nAll scores on the grid:\")\n",
    "for i in range(len(rbf_SVM_cv.cv_results_['params'])):\n",
    "    print(rbf_SVM_cv.cv_results_['params'][i], \" --> \", rbf_SVM_cv.cv_results_['mean_test_score'][i])\n"
   ]
  },
  {
   "cell_type": "markdown",
   "metadata": {},
   "source": [
    "## TO DO 2\n",
    "For the \"best\" SVM kernel and choice of parameters from above, train the model on the entire training set and measure the training error. Also make predictions on the test set and measure the test error. Print the training and the test error."
   ]
  },
  {
   "cell_type": "code",
   "execution_count": 8,
   "metadata": {},
   "outputs": [
    {
     "name": "stdout",
     "output_type": "stream",
     "text": [
      "Best SVM training error: 0.000000\n",
      "Best SVM test error: 0.104144\n"
     ]
    }
   ],
   "source": [
    "#get training and test error for the best SVM model from CV\n",
    "best_SVM = SVC(C=10, kernel='rbf', gamma=0.01)\n",
    "\n",
    "# fit the model on the entire training set\n",
    "best_SVM.fit(X_train, y_train)\n",
    "\n",
    "#get the training and test error\n",
    "training_error = 1. - best_SVM.score(X_train,y_train)\n",
    "test_error = 1. - best_SVM.score(X_test,y_test)\n",
    "\n",
    "print(\"Best SVM training error: %f\" % training_error)\n",
    "print(\"Best SVM test error: %f\" % test_error)"
   ]
  },
  {
   "cell_type": "markdown",
   "metadata": {},
   "source": [
    "## Use logistic regression for comparison\n",
    "\n",
    "## TO DO 3\n",
    "\n",
    "Just for comparison let's also use logistic regression, first with the default values of the parameter for regularization and then with cross-validation to fix the value of the parameter. For cross validation, use 5-fold cross validation and the default values of the regularization parameters for the function linear_model.LogisticRegressionCV(...)"
   ]
  },
  {
   "cell_type": "code",
   "execution_count": 9,
   "metadata": {
    "scrolled": true
   },
   "outputs": [
    {
     "name": "stdout",
     "output_type": "stream",
     "text": [
      "Best logistic regression training error: 0.000000\n",
      "Best logistic regression test error: 0.155755\n",
      "\n",
      "\n",
      "----------------------\n",
      "\n",
      "Best logistic regression training error: 0.000000\n",
      "Best logistic regression test error: 0.162777\n"
     ]
    }
   ],
   "source": [
    "from sklearn import linear_model\n",
    "\n",
    "lr = linear_model.LogisticRegression(max_iter=250)\n",
    "# fit the model on the training data\n",
    "lr.fit(X_train, y_train)\n",
    "\n",
    "#compute training and test error for model above\n",
    "training_error = 1. - lr.score(X_train, y_train)\n",
    "test_error = 1. - lr.score(X_test, y_test)\n",
    "\n",
    "print(\"Best logistic regression training error: %f\" % training_error)\n",
    "print(\"Best logistic regression test error: %f\" % test_error)\n",
    "\n",
    "print(\"\\n\\n----------------------\\n\")\n",
    "\n",
    "\n",
    "\n",
    "\n",
    "#logistic regression with 5-fold CV: you can use use linear_model.LogisticRegressionCV\n",
    "# use 5-fold CV to find the best choice of the parameter, than train\n",
    "# the model on the entire training set\n",
    "lr_cv = linear_model.LogisticRegressionCV(max_iter=250).fit(X_train, y_train) # cv default value if None: 5-fold. \n",
    "training_error_cv = 1. - lr_cv.score(X_train, y_train)\n",
    "test_error_cv = 1. - lr_cv.score(X_test, y_test)\n",
    "\n",
    "print(\"Best logistic regression training error: %f\" % training_error_cv)\n",
    "print(\"Best logistic regression test error: %f\" % test_error_cv)"
   ]
  },
  {
   "cell_type": "markdown",
   "metadata": {},
   "source": [
    "## TO DO 4 \n",
    "Compare and comment the results from SVM and logistic regression.\n",
    "\n",
    "As we can see, the training error of all models we have developed is nearby zero. The test error, instead, is lower in the SVM model. This is because SVM works well with unstructured data like images (that is our study case), while the logistic regression works with alredy identified independent variables."
   ]
  },
  {
   "cell_type": "markdown",
   "metadata": {},
   "source": [
    "## TO DO 5\n",
    "Write the code that finds and plots a digit that is missclassified by logistic regression (optimized for the regularization parameter) and correctly classified by the \"best\" SVM."
   ]
  },
  {
   "cell_type": "code",
   "execution_count": 10,
   "metadata": {},
   "outputs": [
    {
     "name": "stdout",
     "output_type": "stream",
     "text": [
      "Index of element:  4515\n",
      "INPUT:\n"
     ]
    },
    {
     "data": {
      "image/png": "[encoded data removed]",
      "text/plain": [
       "<Figure size 432x288 with 1 Axes>"
      ]
     },
     "metadata": {
      "needs_background": "light"
     },
     "output_type": "display_data"
    },
    {
     "name": "stdout",
     "output_type": "stream",
     "text": [
      "LABEL: 2\n",
      "Label (wrongly) predicted by 'lr_cv':  4\n",
      "Label (correctly) predicted by 'best_SVM':  2\n"
     ]
    }
   ],
   "source": [
    "# in 'lr_miscl' are stored the index of all misclassified elements of 'X_test', by 'lr_cv'\n",
    "lr_pred = lr_cv.predict(X_test)\n",
    "lr_miscl = np.where(y_test != lr_pred)[0]\n",
    "\n",
    "# in 'SVM_miscl' are stored the index of all misclassified elements of 'X_test', by 'best_SVM'\n",
    "SVM_pred = best_SVM.predict(X_test)\n",
    "SVM_miscl = np.where(y_test != SVM_pred)[0]\n",
    "\n",
    "\n",
    "# here are stored the index of all misclassified element of 'lr_cv' which are correctly classified by 'best_SVM'\n",
    "# (this is the 'difference' operation between two sets)\n",
    "lr_misclassified__SVM_correct = np.setdiff1d(lr_miscl, SVM_miscl, assume_unique=True)\n",
    "\n",
    "# randomly, it is chosen an index for the previous array\n",
    "randomIndex = np.random.randint(0, high=len(lr_misclassified__SVM_correct), size=1)[0]\n",
    "\n",
    "# the cell of index 'randomIndex' of the array 'lr_misclassified__SVM_correct'\n",
    "# is the index of an element of 'X_test' that is misclassified by 'lr_cv',\n",
    "# but is correctly classified by 'best_SVM'\n",
    "index_toPlot = lr_misclassified__SVM_correct[randomIndex]\n",
    "\n",
    "\n",
    "print(\"Index of element: \", index_toPlot)\n",
    "plot_digit(X_test, y_test, index_toPlot)\n",
    "print(\"Label (wrongly) predicted by 'lr_cv': \", lr_pred[index_toPlot])\n",
    "print(\"Label (correctly) predicted by 'best_SVM': \", SVM_pred[index_toPlot])"
   ]
  },
  {
   "cell_type": "markdown",
   "metadata": {},
   "source": [
    "## More data\n",
    "Now let's do the same but using 1000 data points for training. \n",
    "\n",
    "## TO DO 6\n",
    "Repeat the entire analysis above using 1000 samples. Of course you can copy the code from above."
   ]
  },
  {
   "cell_type": "code",
   "execution_count": 11,
   "metadata": {},
   "outputs": [
    {
     "name": "stdout",
     "output_type": "stream",
     "text": [
      "Labels and frequencies in training dataset: \n"
     ]
    },
    {
     "data": {
      "text/plain": [
       "(array(['0', '1', '2', '3', '4', '5', '6', '7', '8', '9'], dtype=object),\n",
       " array([ 89, 111, 103,  98,  95, 111, 103, 102,  96,  92]))"
      ]
     },
     "execution_count": 11,
     "metadata": {},
     "output_type": "execute_result"
    }
   ],
   "source": [
    "#random permute the data and split into training and test taking the first 500\n",
    "#data samples as training and the rests as test\n",
    "permutation = np.random.permutation(X.shape[0])\n",
    "\n",
    "X = X[permutation]\n",
    "y = y[permutation]\n",
    "\n",
    "m_training = 1000\n",
    "\n",
    "X_train, X_test = X[:m_training], X[m_training:]\n",
    "y_train, y_test = y[:m_training], y[m_training:]\n",
    "\n",
    "print(\"Labels and frequencies in training dataset: \")\n",
    "np.unique(y_train, return_counts = True)"
   ]
  },
  {
   "cell_type": "markdown",
   "metadata": {},
   "source": [
    "### TO DO 1/B"
   ]
  },
  {
   "cell_type": "code",
   "execution_count": 12,
   "metadata": {},
   "outputs": [
    {
     "name": "stdout",
     "output_type": "stream",
     "text": [
      "RESULTS FOR LINEAR KERNEL\n",
      "\n",
      "Best parameters set found:\n",
      "{'C': 1}\n",
      "Score with best parameters:\n",
      "0.884\n",
      "\n",
      "All scores on the grid:\n",
      "{'C': 1}  -->  0.884\n",
      "{'C': 10}  -->  0.884\n",
      "{'C': 100}  -->  0.884\n",
      "\n",
      "\n",
      "----------------------\n",
      "\n",
      "\n",
      "RESULTS FOR POLY DEGREE=2 KERNEL\n",
      "\n",
      "Best parameters set found:\n",
      "{'C': 10, 'gamma': 0.01}\n",
      "Score with best parameters:\n",
      "0.905\n",
      "\n",
      "All scores on the grid:\n",
      "{'C': 1, 'gamma': 0.01}  -->  0.885\n",
      "{'C': 1, 'gamma': 0.1}  -->  0.9049999999999999\n",
      "{'C': 1, 'gamma': 1.0}  -->  0.9049999999999999\n",
      "{'C': 10, 'gamma': 0.01}  -->  0.905\n",
      "{'C': 10, 'gamma': 0.1}  -->  0.9049999999999999\n",
      "{'C': 10, 'gamma': 1.0}  -->  0.9049999999999999\n",
      "{'C': 100, 'gamma': 0.01}  -->  0.9049999999999999\n",
      "{'C': 100, 'gamma': 0.1}  -->  0.9049999999999999\n",
      "{'C': 100, 'gamma': 1.0}  -->  0.9049999999999999\n",
      "\n",
      "\n",
      "----------------------\n",
      "\n",
      "\n",
      "RESULTS FOR rbf KERNEL\n",
      "\n",
      "Best parameters set found:\n",
      "{'C': 100, 'gamma': 0.01}\n",
      "Score with best parameters:\n",
      "0.914\n",
      "\n",
      "All scores on the grid:\n",
      "{'C': 1, 'gamma': 0.01}  -->  0.9019999999999999\n",
      "{'C': 1, 'gamma': 0.1}  -->  0.583\n",
      "{'C': 1, 'gamma': 1.0}  -->  0.14\n",
      "{'C': 10, 'gamma': 0.01}  -->  0.9129999999999999\n",
      "{'C': 10, 'gamma': 0.1}  -->  0.624\n",
      "{'C': 10, 'gamma': 1.0}  -->  0.14300000000000002\n",
      "{'C': 100, 'gamma': 0.01}  -->  0.914\n",
      "{'C': 100, 'gamma': 0.1}  -->  0.624\n",
      "{'C': 100, 'gamma': 1.0}  -->  0.14300000000000002\n"
     ]
    }
   ],
   "source": [
    "#import SVC\n",
    "from sklearn.svm import SVC\n",
    "#import for Cross-Validation\n",
    "from sklearn.model_selection import GridSearchCV\n",
    "\n",
    "# parameters for linear SVM\n",
    "parameters = {'C': [1, 10, 100]}\n",
    "\n",
    "#run linear SVM\n",
    "linear_SVM = SVC(kernel='linear')\n",
    "\n",
    "#find best model using 5-fold CV \n",
    "#and train it using all the training data\n",
    "\n",
    "linear_SVM_cv = GridSearchCV(linear_SVM, parameters) # cv default value if None: 5-fold.\n",
    "linear_SVM_cv.fit(X_train, y_train)\n",
    "\n",
    "print('RESULTS FOR LINEAR KERNEL\\n')\n",
    "\n",
    "print(\"Best parameters set found:\")\n",
    "print(linear_SVM_cv.best_params_)\n",
    "\n",
    "print(\"Score with best parameters:\")\n",
    "print(linear_SVM_cv.best_score_)\n",
    "\n",
    "print(\"\\nAll scores on the grid:\")\n",
    "for i in range(len(linear_SVM_cv.cv_results_['params'])):\n",
    "    print(linear_SVM_cv.cv_results_['params'][i], \" --> \", linear_SVM_cv.cv_results_['mean_test_score'][i])\n",
    "\n",
    "print(\"\\n\\n----------------------\\n\")\n",
    "\n",
    "\n",
    "\n",
    "\n",
    "# parameters for poly with degree 2 kernel\n",
    "parameters = {'C': [1, 10, 100],'gamma':[0.01,0.1,1.]}\n",
    "\n",
    "#run SVM with poly of degree 2 kernel\n",
    "poly2_SVM = SVC(kernel='poly',degree=2)\n",
    "\n",
    "# ADD CODE: DO THE SAME AS ABOVE FOR POLYNOMIAL KERNEL WITH DEGREE=2\n",
    "poly2_SVM_cv = GridSearchCV(poly2_SVM, parameters)\n",
    "poly2_SVM_cv.fit(X_train, y_train)\n",
    "\n",
    "print('\\nRESULTS FOR POLY DEGREE=2 KERNEL\\n')\n",
    "\n",
    "print(\"Best parameters set found:\")\n",
    "print(poly2_SVM_cv.best_params_)\n",
    "\n",
    "print(\"Score with best parameters:\")\n",
    "print(poly2_SVM_cv.best_score_)\n",
    "\n",
    "print(\"\\nAll scores on the grid:\")\n",
    "for i in range(len(poly2_SVM_cv.cv_results_['params'])):\n",
    "    print(poly2_SVM_cv.cv_results_['params'][i], \" --> \", poly2_SVM_cv.cv_results_['mean_test_score'][i])\n",
    "\n",
    "print(\"\\n\\n----------------------\\n\")\n",
    "\n",
    "\n",
    "\n",
    "\n",
    "# parameters for rbf SVM\n",
    "parameters = {'C': [1, 10, 100],'gamma':[0.01,0.1,1.]}\n",
    "\n",
    "#run SVM with rbf kernel\n",
    "rbf_SVM = SVC(kernel='rbf')\n",
    "\n",
    "# ADD CODE: DO THE SAME AS ABOVE FOR RBF KERNEL\n",
    "rbf_SVM_cv = GridSearchCV(rbf_SVM, parameters)\n",
    "rbf_SVM_cv.fit(X_train, y_train)\n",
    "\n",
    "print('\\nRESULTS FOR rbf KERNEL\\n')\n",
    "\n",
    "print(\"Best parameters set found:\")\n",
    "print(rbf_SVM_cv.best_params_)\n",
    "\n",
    "print(\"Score with best parameters:\")\n",
    "print(rbf_SVM_cv.best_score_)\n",
    "\n",
    "print(\"\\nAll scores on the grid:\")\n",
    "for i in range(len(rbf_SVM_cv.cv_results_['params'])):\n",
    "    print(rbf_SVM_cv.cv_results_['params'][i], \" --> \", rbf_SVM_cv.cv_results_['mean_test_score'][i])\n"
   ]
  },
  {
   "cell_type": "markdown",
   "metadata": {},
   "source": [
    "### TO DO 2/B"
   ]
  },
  {
   "cell_type": "code",
   "execution_count": 13,
   "metadata": {},
   "outputs": [
    {
     "name": "stdout",
     "output_type": "stream",
     "text": [
      "Best SVM training error: 0.000000\n",
      "Best SVM test error: 0.080812\n"
     ]
    }
   ],
   "source": [
    "#get training and test error for the best SVM model from CV\n",
    "best_SVM = SVC(C=10, kernel='rbf', gamma=0.01)\n",
    "\n",
    "# fit the model on the entire training set\n",
    "best_SVM.fit(X_train, y_train)\n",
    "\n",
    "#get the training and test error\n",
    "training_error = 1. - best_SVM.score(X_train,y_train)\n",
    "test_error = 1. - best_SVM.score(X_test,y_test)\n",
    "\n",
    "print(\"Best SVM training error: %f\" % training_error)\n",
    "print(\"Best SVM test error: %f\" % test_error)"
   ]
  },
  {
   "cell_type": "markdown",
   "metadata": {},
   "source": [
    "### TO DO 3/B"
   ]
  },
  {
   "cell_type": "code",
   "execution_count": 14,
   "metadata": {},
   "outputs": [
    {
     "name": "stdout",
     "output_type": "stream",
     "text": [
      "Best logistic regression training error: 0.000000\n",
      "Best logistic regression test error: 0.130522\n",
      "\n",
      "\n",
      "----------------------\n",
      "\n",
      "Best logistic regression training error: 0.006000\n",
      "Best logistic regression test error: 0.128768\n"
     ]
    }
   ],
   "source": [
    "from sklearn import linear_model\n",
    "\n",
    "lr = linear_model.LogisticRegression(max_iter=300)\n",
    "# fit the model on the training data\n",
    "lr.fit(X_train, y_train)\n",
    "\n",
    "#compute training and test error for model above\n",
    "training_error = 1. - lr.score(X_train, y_train)\n",
    "test_error = 1. - lr.score(X_test, y_test)\n",
    "\n",
    "print(\"Best logistic regression training error: %f\" % training_error)\n",
    "print(\"Best logistic regression test error: %f\" % test_error)\n",
    "\n",
    "print(\"\\n\\n----------------------\\n\")\n",
    "\n",
    "\n",
    "\n",
    "\n",
    "#logistic regression with 5-fold CV: you can use use linear_model.LogisticRegressionCV\n",
    "# use 5-fold CV to find the best choice of the parameter, than train\n",
    "# the model on the entire training set\n",
    "lr_cv = linear_model.LogisticRegressionCV(max_iter=250).fit(X_train, y_train) # cv default value if None: 5-fold. \n",
    "training_error_cv = 1. - lr_cv.score(X_train, y_train)\n",
    "test_error_cv = 1. - lr_cv.score(X_test, y_test)\n",
    "\n",
    "print(\"Best logistic regression training error: %f\" % training_error_cv)\n",
    "print(\"Best logistic regression test error: %f\" % test_error_cv)"
   ]
  },
  {
   "cell_type": "markdown",
   "metadata": {},
   "source": [
    "### TO DO 5/B"
   ]
  },
  {
   "cell_type": "code",
   "execution_count": 15,
   "metadata": {},
   "outputs": [
    {
     "name": "stdout",
     "output_type": "stream",
     "text": [
      "Index of element:  11777\n",
      "INPUT:\n"
     ]
    },
    {
     "data": {
      "image/png": "[encoded data removed]",
      "text/plain": [
       "<Figure size 432x288 with 1 Axes>"
      ]
     },
     "metadata": {
      "needs_background": "light"
     },
     "output_type": "display_data"
    },
    {
     "name": "stdout",
     "output_type": "stream",
     "text": [
      "LABEL: 0\n",
      "Label (wrongly) predicted by 'lr_cv':  5\n",
      "Label (correctly) predicted by 'best_SVM':  0\n"
     ]
    }
   ],
   "source": [
    "# in 'lr_miscl' are stored the index of all misclassified elements of 'X_test', by 'lr_cv'\n",
    "lr_pred = lr_cv.predict(X_test)\n",
    "lr_miscl = np.where(y_test != lr_pred)[0]\n",
    "\n",
    "# in 'SVM_miscl' are stored the index of all misclassified elements of 'X_test', by 'best_SVM'\n",
    "SVM_pred = best_SVM.predict(X_test)\n",
    "SVM_miscl = np.where(y_test != SVM_pred)[0]\n",
    "\n",
    "\n",
    "# here are stored the index of all misclassified element of 'lr_cv' which are correctly classified by 'best_SVM'\n",
    "# (this is the 'difference' operation between two sets)\n",
    "lr_misclassified__SVM_correct = np.setdiff1d(lr_miscl, SVM_miscl, assume_unique=True)\n",
    "\n",
    "# randomly, it is chosen an index for the previous array\n",
    "randomIndex = np.random.randint(0, high=len(lr_misclassified__SVM_correct), size=1)[0]\n",
    "\n",
    "# the cell of index 'randomIndex' of the array 'lr_misclassified__SVM_correct'\n",
    "# is the index of an element of 'X_test' that is misclassified by 'lr_cv',\n",
    "# but is correctly classified by 'best_SVM'\n",
    "index_toPlot = lr_misclassified__SVM_correct[randomIndex]\n",
    "\n",
    "\n",
    "print(\"Index of element: \", index_toPlot)\n",
    "plot_digit(X_test, y_test, index_toPlot)\n",
    "print(\"Label (wrongly) predicted by 'lr_cv': \", lr_pred[index_toPlot])\n",
    "print(\"Label (correctly) predicted by 'best_SVM': \", SVM_pred[index_toPlot])"
   ]
  },
  {
   "cell_type": "markdown",
   "metadata": {},
   "source": [
    "## TO DO 7\n",
    "Compare and comment on the differences with the results above."
   ]
  },
  {
   "cell_type": "markdown",
   "metadata": {},
   "source": [
    "As expected, the increase in the size of the training set has resulted in greater precision in the classification of the elements.\n",
    "\n",
    "In fact, the test error has decreased by about 23% both for the model developed with SVM and for the logistic regression.\n",
    "\n",
    "However, the previous argument remains valid, so that with the help of the SVM model you get better performance than the logistic regression."
   ]
  },
  {
   "cell_type": "code",
   "execution_count": null,
   "metadata": {},
   "outputs": [],
   "source": []
  }
 ],
 "metadata": {
  "kernelspec": {
   "display_name": "Python 3 (ipykernel)",
   "language": "python",
   "name": "python3"
  },
  "language_info": {
   "codemirror_mode": {
    "name": "ipython",
    "version": 3
   },
   "file_extension": ".py",
   "mimetype": "text/x-python",
   "name": "python",
   "nbconvert_exporter": "python",
   "pygments_lexer": "ipython3",
   "version": "3.9.2"
  }
 },
 "nbformat": 4,
 "nbformat_minor": 4
}
